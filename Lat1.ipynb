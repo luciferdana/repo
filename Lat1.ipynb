{
 "cells": [
  {
   "cell_type": "code",
   "execution_count": null,
   "metadata": {},
   "outputs": [],
   "source": [
    "import numpy as np\n",
    "import matplotlib.pyplot as plt"
   ]
  },
  {
   "cell_type": "code",
   "execution_count": null,
   "metadata": {},
   "outputs": [],
   "source": [
    "f = 5 hz\n",
    "\n",
    "t = np.linscape(0,1,500)\n",
    "a# Frekuensi\n",
    "f = 5  # Hz\n",
    "\n",
    "# Waktu dari 0 hingga 1 detik dengan 500 titik\n",
    "t = np.linspace(0, 1, 500)\n",
    "\n",
    "# Sinyal sinus dan cosinus\n",
    "y = np.sin(2 * np.pi * f * t)\n",
    "y2 = np.cos(2 * np.pi * f * t) \n",
    "\n",
    "# Buat plot\n",
    "plt.plot(t, y, label='Sinus')\n",
    "plt.plot(t, y2, label='Cosinus', linestyle='dashed')\n",
    "\n",
    "# Tambahkan label dan judul\n",
    "plt.xlabel('Waktu (s)')\n",
    "plt.ylabel('Amplitudo')\n",
    "plt.title('Grafik Sinus dan Cosinus')\n",
    "\n",
    "# Tampilkan legenda dan grid\n",
    "plt.legend()\n",
    "plt.grid()\n",
    "\n",
    "# Tampilkan plot\n",
    "plt.show()\n",
    "\n",
    "y =np.sin(2*np.pi*f*t)\n",
    "\n",
    "y2 = no.cos2(2*np.pi)"
   ]
  }
 ],
 "metadata": {
  "kernelspec": {
   "display_name": "Python 3",
   "language": "python",
   "name": "python3"
  },
  "language_info": {
   "name": "python",
   "version": "3.11.0"
  }
 },
 "nbformat": 4,
 "nbformat_minor": 2
}
